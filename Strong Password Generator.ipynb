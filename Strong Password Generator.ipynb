{
 "cells": [
  {
   "cell_type": "code",
   "execution_count": 1,
   "id": "725eec12",
   "metadata": {},
   "outputs": [],
   "source": [
    "def strong_password_generator(password_lengh=16):\n",
    "    \"\"\"16 digit password generator with unique charactirs\n",
    "    strong_password_generator(no arguments)\"\"\"\n",
    "    \n",
    "    import random\n",
    "\n",
    "    all_things = 'qwertyuiopasdfghjklzxcvbnm!@#$%^&*1234567890'\n",
    "\n",
    "    all_things = all_things + all_things.upper() # all alphabits(small and capital), all numbers(0 to 9) and all special chars\n",
    "\n",
    "    password = ''.join(random.sample(all_things,password_lengh)) # randomly choosing 'password_lengh' unique characters and string type casting \n",
    "    \n",
    "    return password"
   ]
  },
  {
   "cell_type": "code",
   "execution_count": 5,
   "id": "733b1c18",
   "metadata": {},
   "outputs": [
    {
     "data": {
      "text/plain": [
       "'y&Mn6QIYH%LiwP7r'"
      ]
     },
     "execution_count": 5,
     "metadata": {},
     "output_type": "execute_result"
    }
   ],
   "source": [
    "strong_password_generator()"
   ]
  },
{
   "cell_type": "code",
   "execution_count": null,
   "metadata": {},
   "outputs": [],
   "source": []
  }
 ],
 "metadata": {
  "kernelspec": {
   "display_name": "Python 3 (ipykernel)",
   "language": "python",
   "name": "python3"
  },
  "language_info": {
   "codemirror_mode": {
    "name": "ipython",
    "version": 3
   },
   "file_extension": ".py",
   "mimetype": "text/x-python",
   "name": "python",
   "nbconvert_exporter": "python",
   "pygments_lexer": "ipython3",
   "version": "3.12.0"
  }
 },
 "nbformat": 4,
 "nbformat_minor": 5
}
